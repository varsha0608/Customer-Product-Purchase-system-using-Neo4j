{
 "cells": [
  {
   "cell_type": "code",
   "execution_count": 2,
   "id": "da5bce2c-6839-4d68-860f-5e2c2a607a50",
   "metadata": {},
   "outputs": [
    {
     "name": "stdout",
     "output_type": "stream",
     "text": [
      "Graph cleared.\n",
      "Customer 'Alice' added.\n",
      "Customer 'Bob' added.\n",
      "Customer 'Charlie' added.\n",
      "Product 'Laptop' added.\n"
     ]
    },
    {
     "name": "stderr",
     "output_type": "stream",
     "text": [
      "C:\\Users\\Chandan D\\AppData\\Local\\Temp\\ipykernel_24832\\3250550836.py:20: DeprecationWarning: The transaction.commit() method is deprecated, use graph.commit(transaction) instead\n",
      "  tx.commit()\n"
     ]
    },
    {
     "name": "stdout",
     "output_type": "stream",
     "text": [
      "Product 'Phone' added.\n",
      "Product 'Tablet' added.\n",
      "Product 'Smartwatch' added.\n"
     ]
    },
    {
     "name": "stderr",
     "output_type": "stream",
     "text": [
      "C:\\Users\\Chandan D\\AppData\\Local\\Temp\\ipykernel_24832\\3250550836.py:29: DeprecationWarning: The transaction.commit() method is deprecated, use graph.commit(transaction) instead\n",
      "  tx.commit()\n"
     ]
    },
    {
     "name": "stdout",
     "output_type": "stream",
     "text": [
      "Category 'Electronics' added.\n",
      "Category 'Gadgets' added.\n"
     ]
    },
    {
     "name": "stderr",
     "output_type": "stream",
     "text": [
      "C:\\Users\\Chandan D\\AppData\\Local\\Temp\\ipykernel_24832\\3250550836.py:38: DeprecationWarning: The transaction.commit() method is deprecated, use graph.commit(transaction) instead\n",
      "  tx.commit()\n"
     ]
    },
    {
     "name": "stdout",
     "output_type": "stream",
     "text": [
      "Customer 'Alice' purchased product 'Laptop'.\n",
      "Customer 'Bob' purchased product 'Phone'.\n",
      "Customer 'Charlie' purchased product 'Tablet'.\n",
      "Product 'Laptop' belongs to category 'Electronics'.\n",
      "Product 'Phone' belongs to category 'Electronics'.\n",
      "Product 'Tablet' belongs to category 'Electronics'.\n",
      "Product 'Smartwatch' belongs to category 'Gadgets'.\n",
      "Products purchased by Alice: ['Laptop']\n",
      "Product recommendations for Alice: ['Phone', 'Tablet']\n"
     ]
    }
   ],
   "source": [
    "from py2neo import Graph, Node, Relationship, NodeMatcher\n",
    "\n",
    "class CustomerProductGraph:\n",
    "    def __init__(self, uri=\"neo4j+s://d5800584.databases.neo4j.io\", user=\"neo4j\", password=\"wPQh0QgH3kzqb8iBSAenCL54ZX7suzKy4vt4_jdj6tU\"):\n",
    "        self.graph = Graph(uri, auth=(user, password))\n",
    "        self.matcher = NodeMatcher(self.graph)\n",
    "\n",
    "    # Clear graph database\n",
    "    def clear_graph(self):\n",
    "        self.graph.run(\"MATCH (n) DETACH DELETE n\")\n",
    "        print(\"Graph cleared.\")\n",
    "\n",
    "    # Add customers in batch\n",
    "    def add_customers(self, customer_names):\n",
    "        tx = self.graph.begin()\n",
    "        for name in customer_names:\n",
    "            customer = Node(\"Customer\", name=name)\n",
    "            tx.merge(customer, \"Customer\", \"name\")\n",
    "            print(f\"Customer '{name}' added.\")\n",
    "        tx.commit()\n",
    "\n",
    "    # Add products in batch\n",
    "    def add_products(self, product_names):\n",
    "        tx = self.graph.begin()\n",
    "        for name in product_names:\n",
    "            product = Node(\"Product\", name=name)\n",
    "            tx.merge(product, \"Product\", \"name\")\n",
    "            print(f\"Product '{name}' added.\")\n",
    "        tx.commit()\n",
    "\n",
    "    # Add categories in batch\n",
    "    def add_categories(self, category_names):\n",
    "        tx = self.graph.begin()\n",
    "        for name in category_names:\n",
    "            category = Node(\"Category\", name=name)\n",
    "            tx.merge(category, \"Category\", \"name\")\n",
    "            print(f\"Category '{name}' added.\")\n",
    "        tx.commit()\n",
    "\n",
    "    # Add purchase relationships\n",
    "    def add_purchase(self, customer_name, product_name):\n",
    "        customer = self.matcher.match(\"Customer\", name=customer_name).first()\n",
    "        product = self.matcher.match(\"Product\", name=product_name).first()\n",
    "        if customer and product:\n",
    "            purchase = Relationship(customer, \"PURCHASED\", product)\n",
    "            self.graph.merge(purchase)\n",
    "            print(f\"Customer '{customer_name}' purchased product '{product_name}'.\")\n",
    "        else:\n",
    "            print(f\"Customer or product not found!\")\n",
    "\n",
    "    # Add belongs_to relationships between product and category\n",
    "    def add_product_category(self, product_name, category_name):\n",
    "        product = self.matcher.match(\"Product\", name=product_name).first()\n",
    "        category = self.matcher.match(\"Category\", name=category_name).first()\n",
    "        if product and category:\n",
    "            rel = Relationship(product, \"BELONGS_TO\", category)\n",
    "            self.graph.merge(rel)\n",
    "            print(f\"Product '{product_name}' belongs to category '{category_name}'.\")\n",
    "        else:\n",
    "            print(f\"Product or Category not found!\")\n",
    "\n",
    "    # Find products purchased by a customer\n",
    "    def find_products_purchased_by_customer(self, customer_name):\n",
    "        query = \"\"\"\n",
    "        MATCH (c:Customer)-[:PURCHASED]->(p:Product)\n",
    "        WHERE c.name = $customer_name\n",
    "        RETURN p.name AS product\n",
    "        \"\"\"\n",
    "        results = self.graph.run(query, customer_name=customer_name).data()\n",
    "        return [record['product'] for record in results]\n",
    "\n",
    "    # Recommend products to a customer based on category\n",
    "    def recommend_products_by_category(self, customer_name):\n",
    "        query = \"\"\"\n",
    "        MATCH (c:Customer)-[:PURCHASED]->(p:Product)-[:BELONGS_TO]->(cat:Category)<-[:BELONGS_TO]-(rec:Product)\n",
    "        WHERE c.name = $customer_name AND NOT (c)-[:PURCHASED]->(rec)\n",
    "        RETURN DISTINCT rec.name AS recommendation\n",
    "        LIMIT 5\n",
    "        \"\"\"\n",
    "        results = self.graph.run(query, customer_name=customer_name).data()\n",
    "        return [record['recommendation'] for record in results]\n",
    "\n",
    "# Example usage\n",
    "if __name__ == \"__main__\":\n",
    "    graph = CustomerProductGraph()\n",
    "\n",
    "    # Clear graph (optional)\n",
    "    graph.clear_graph()\n",
    "\n",
    "    # Adding Customers, Products, and Categories\n",
    "    customers = [\"Alice\", \"Bob\", \"Charlie\"]\n",
    "    products = [\"Laptop\", \"Phone\", \"Tablet\", \"Smartwatch\"]\n",
    "    categories = [\"Electronics\", \"Gadgets\"]\n",
    "\n",
    "    graph.add_customers(customers)\n",
    "    graph.add_products(products)\n",
    "    graph.add_categories(categories)\n",
    "\n",
    "    # Create relationships\n",
    "    graph.add_purchase(\"Alice\", \"Laptop\")\n",
    "    graph.add_purchase(\"Bob\", \"Phone\")\n",
    "    graph.add_purchase(\"Charlie\", \"Tablet\")\n",
    "\n",
    "    graph.add_product_category(\"Laptop\", \"Electronics\")\n",
    "    graph.add_product_category(\"Phone\", \"Electronics\")\n",
    "    graph.add_product_category(\"Tablet\", \"Electronics\")\n",
    "    graph.add_product_category(\"Smartwatch\", \"Gadgets\")\n",
    "\n",
    "    # Query products purchased by Alice\n",
    "    products_by_alice = graph.find_products_purchased_by_customer(\"Alice\")\n",
    "    print(\"Products purchased by Alice:\", products_by_alice)\n",
    "\n",
    "    # Recommend products for Alice based on category\n",
    "    recommendations = graph.recommend_products_by_category(\"Alice\")\n",
    "    print(\"Product recommendations for Alice:\", recommendations)\n"
   ]
  },
  {
   "cell_type": "code",
   "execution_count": null,
   "id": "05f2e395-51cf-4ac4-9663-f3ad1c435e06",
   "metadata": {},
   "outputs": [],
   "source": []
  }
 ],
 "metadata": {
  "kernelspec": {
   "display_name": "Python 3 (ipykernel)",
   "language": "python",
   "name": "python3"
  },
  "language_info": {
   "codemirror_mode": {
    "name": "ipython",
    "version": 3
   },
   "file_extension": ".py",
   "mimetype": "text/x-python",
   "name": "python",
   "nbconvert_exporter": "python",
   "pygments_lexer": "ipython3",
   "version": "3.12.4"
  }
 },
 "nbformat": 4,
 "nbformat_minor": 5
}
